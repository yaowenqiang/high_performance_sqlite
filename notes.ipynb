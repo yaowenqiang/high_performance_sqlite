{
 "cells": [
  {
   "cell_type": "markdown",
   "metadata": {},
   "source": [
    "# Hight Performace Sqlite"
   ]
  },
  {
   "cell_type": "code",
   "execution_count": null,
   "metadata": {},
   "outputs": [],
   "source": [
    "%pip install jupysql duckdb-engine --quiet"
   ]
  },
  {
   "cell_type": "markdown",
   "metadata": {},
   "source": [
    "> amalgamation"
   ]
  },
  {
   "cell_type": "code",
   "execution_count": 1,
   "metadata": {},
   "outputs": [],
   "source": [
    "%load_ext sql"
   ]
  },
  {
   "cell_type": "code",
   "execution_count": null,
   "metadata": {},
   "outputs": [],
   "source": [
    "# libSQL"
   ]
  },
  {
   "cell_type": "code",
   "execution_count": 2,
   "metadata": {},
   "outputs": [],
   "source": [
    "%config SqlMagic.autopandas=True"
   ]
  },
  {
   "cell_type": "code",
   "execution_count": 2,
   "metadata": {},
   "outputs": [],
   "source": [
    "import pandas as pd\n",
    "import sqlite3"
   ]
  },
  {
   "cell_type": "code",
   "execution_count": 3,
   "metadata": {},
   "outputs": [
    {
     "data": {
      "text/html": [
       "<span style=\"None\">Connecting to &#x27;sqlite://&#x27;</span>"
      ],
      "text/plain": [
       "Connecting to 'sqlite://'"
      ]
     },
     "metadata": {},
     "output_type": "display_data"
    },
    {
     "data": {
      "text/html": [
       "<span style=\"color: green\">1 rows affected.</span>"
      ],
      "text/plain": [
       "1 rows affected."
      ]
     },
     "metadata": {},
     "output_type": "display_data"
    },
    {
     "data": {
      "text/html": [
       "<span style=\"color: green\">1 rows affected.</span>"
      ],
      "text/plain": [
       "1 rows affected."
      ]
     },
     "metadata": {},
     "output_type": "display_data"
    },
    {
     "data": {
      "text/html": [
       "<span style=\"color: green\">1 rows affected.</span>"
      ],
      "text/plain": [
       "1 rows affected."
      ]
     },
     "metadata": {},
     "output_type": "display_data"
    },
    {
     "data": {
      "text/html": [
       "<span style=\"color: green\">1 rows affected.</span>"
      ],
      "text/plain": [
       "1 rows affected."
      ]
     },
     "metadata": {},
     "output_type": "display_data"
    },
    {
     "data": {
      "text/html": [
       "<table>\n",
       "    <thead>\n",
       "        <tr>\n",
       "        </tr>\n",
       "    </thead>\n",
       "    <tbody>\n",
       "    </tbody>\n",
       "</table>"
      ],
      "text/plain": [
       "++\n",
       "||\n",
       "++\n",
       "++"
      ]
     },
     "execution_count": 3,
     "metadata": {},
     "output_type": "execute_result"
    }
   ],
   "source": [
    "%%sql sqlite://\n",
    "    create table presidents (first_name, last_name, year_of_birth);\n",
    "    insert into presidents values('Georg', 'Washington', 1732);\n",
    "        insert into presidents values('John', 'Adams', 1735);\n",
    "            insert into presidents values('Thomas', 'Jefferson', 1743);\n",
    "                insert into presidents values('James', 'Madison', 1751);\n",
    "                "
   ]
  },
  {
   "cell_type": "code",
   "execution_count": 4,
   "metadata": {},
   "outputs": [
    {
     "data": {
      "text/html": [
       "<span style=\"None\">Running query in &#x27;sqlite://&#x27;</span>"
      ],
      "text/plain": [
       "Running query in 'sqlite://'"
      ]
     },
     "metadata": {},
     "output_type": "display_data"
    },
    {
     "data": {
      "text/html": [
       "<table>\n",
       "    <thead>\n",
       "        <tr>\n",
       "            <th>first_name</th>\n",
       "            <th>last_name</th>\n",
       "            <th>year_of_birth</th>\n",
       "        </tr>\n",
       "    </thead>\n",
       "    <tbody>\n",
       "        <tr>\n",
       "            <td>Georg</td>\n",
       "            <td>Washington</td>\n",
       "            <td>1732</td>\n",
       "        </tr>\n",
       "        <tr>\n",
       "            <td>John</td>\n",
       "            <td>Adams</td>\n",
       "            <td>1735</td>\n",
       "        </tr>\n",
       "        <tr>\n",
       "            <td>Thomas</td>\n",
       "            <td>Jefferson</td>\n",
       "            <td>1743</td>\n",
       "        </tr>\n",
       "        <tr>\n",
       "            <td>James</td>\n",
       "            <td>Madison</td>\n",
       "            <td>1751</td>\n",
       "        </tr>\n",
       "    </tbody>\n",
       "</table>"
      ],
      "text/plain": [
       "+------------+------------+---------------+\n",
       "| first_name | last_name  | year_of_birth |\n",
       "+------------+------------+---------------+\n",
       "|   Georg    | Washington |      1732     |\n",
       "|    John    |   Adams    |      1735     |\n",
       "|   Thomas   | Jefferson  |      1743     |\n",
       "|   James    |  Madison   |      1751     |\n",
       "+------------+------------+---------------+"
      ]
     },
     "execution_count": 4,
     "metadata": {},
     "output_type": "execute_result"
    }
   ],
   "source": [
    "later_presidents = %sql select * from presidents where year_of_birth > 1700\n",
    "later_presidents"
   ]
  },
  {
   "cell_type": "markdown",
   "metadata": {},
   "source": [
    "> use litecli in command line"
   ]
  },
  {
   "cell_type": "markdown",
   "metadata": {},
   "source": [
    "sqlite can handle 281 TB size file"
   ]
  },
  {
   "cell_type": "markdown",
   "metadata": {},
   "source": [
    "sqlite railsway diagrams"
   ]
  },
  {
   "cell_type": "markdown",
   "metadata": {},
   "source": [
    "https://www.sqlite.org/draft/lang_select.html"
   ]
  },
  {
   "cell_type": "markdown",
   "metadata": {},
   "source": [
    "https://www.sqlite.org/syntaxdiagrams.html"
   ]
  },
  {
   "cell_type": "markdown",
   "metadata": {},
   "source": [
    "```bash\n",
    "open test.sqlite -a Sublime\\ Text\n",
    "\n",
    "echo \"5351 4c69 7465 2066 6f72 6d61 7420 3300\" | xxd -r -p\n",
    "SQLite format 3\n",
    "```"
   ]
  },
  {
   "cell_type": "markdown",
   "metadata": {},
   "source": []
  },
  {
   "cell_type": "markdown",
   "metadata": {},
   "source": [
    "useful commands\n",
    "```bash\n",
    "sqlite3 test.sqlite\n",
    "sqlite3 test.sqlite \".help\"\n",
    "sqlite3 test.sqlite \".tables\"\n",
    "sqlite3 test.sqlite \".schema\"\n",
    "sqlite3 test.sqlite \".mode column\"\n",
    "sqlite3 test.sqlite \".mode list\"\n",
    "sqlite3 test.sqlite \".mode line\"\n",
    "sqlite3 test.sqlite \".mode insert\"\n",
    "sqlite3 test.sqlite \".mode csv\"\n",
    "sqlite3 test.sqlite \".mode html\"\n",
    "sqlite3 test.sqlite \".mode markdown\"\n",
    "sqlite3 test.sqlite \".mode column\"\n",
    "sqlite3 test.sqlite \".headers on\"\n",
    "sqlite3 test.sqlite \".headers off\"\n",
    "sqlite3 test.sqlite \".output output.txt\"\n",
    "sqlite3 test.sqlite \".output\" # back to stdout\n",
    "sqlite3 test.sqlite \".import data.csv table_name\"\n",
    "sqlite3 test.sqlite \".dump\" > dump.sql\n",
    "sqlite3 test.sqlite < dump.sql\n",
    "sqlite3 test.sqlite \".output\" > dump.sql\n",
    "sqlite3 test.sqlite \".output\"\n",
    "sqlite3 test.sqlite \".exit\"\n",
    "```\n",
    "\n",
    "```bash\n",
    ".sqlite3 test.sqlite\n",
    "sqlite> .shell clear\n",
    "sqlite> .headers on\n",
    "sqlite> .mode\n",
    "sqlite> .mode json\n",
    "sqlite> .mode box\n",
    "sqlite> .mode markdown\n",
    "sqlite> .width 2 10 30\n",
    "sqlite> .mode box --wrap 30 --ww\n",
    "sqlite> .mode csv\n",
    "sqlite> .mode html\n",
    "\n",
    "sqlite> .mode csv\n",
    "sqlite> .separator \"|----|\"\n",
    "\n",
    "sqlite> .mode qbox\n",
    "sqlite> .mode insert\n",
    "sqlite> .output some_file.sql\n",
    "sqlite> .once some_file.sql\n",
    "\n",
    "\n",
    "\n",
    "\n",
    "\n",
    "```\n",
    "```"
   ]
  },
  {
   "cell_type": "markdown",
   "metadata": {},
   "source": [
    "\n",
    "```bash\n",
    ".sqlite3 test.sqlite\n",
    ".sqlite3 .schema\n",
    ".sqlite3 .expert\n",
    "\n",
    "```\n"
   ]
  },
  {
   "cell_type": "markdown",
   "metadata": {},
   "source": [
    "# pragma"
   ]
  },
  {
   "cell_type": "markdown",
   "metadata": {},
   "source": [
    "```bash\n",
    ".sqlite3 test.sqlite\n",
    "pragma pragma_list;\n",
    "pragma page_size;\n",
    "pragma page_count;\n",
    "pragma busy_timeout;\n",
    "pragma busy_timeout=5000;\n",
    "\n",
    "# journal_mode is at the database level\n",
    "sqlite> PRAGMA journal_mode;\n",
    "sqlite> PRAGMA compile_options;\n",
    "# ENABLE_FTS5 means full text search\n",
    "# OMIT_LOAD_EXTENSION means no load_extension\n",
    "sqlite> .dbconfig\n",
    "# load_extension off\n",
    "PRAGMA foreign_keys;\n",
    "PRAGMA foreign_keys=1;\n",
    "```\n"
   ]
  },
  {
   "cell_type": "markdown",
   "metadata": {},
   "source": [
    "# Virtual tables"
   ]
  },
  {
   "cell_type": "markdown",
   "metadata": {},
   "source": [
    "## install the csv extension"
   ]
  },
  {
   "cell_type": "markdown",
   "metadata": {},
   "source": [
    "```bash\n",
    "sqlite3\n",
    "sqlite> .load csv\n",
    "\n",
    "```\n",
    "\n",
    "```sql\n",
    "create virtual table temp.t1 using csv(filename='data.csv', headers=true);\n",
    "```\n",
    "## install the fts extension\n",
    "```sql\n",
    "create virtual table temp.t1 using fts5(text);\n",
    "```\n",
    "## install the blob extension\n",
    "```sql\n",
    "create virtual table temp.t1 using blob(filename='data.csv');\n",
    "```\n",
    "## install the json extension\n",
    "```sql\n",
    "create virtual table temp.t1 using json(filename='data.csv');\n",
    "```\n",
    "## install the spatialite extension\n",
    "```sql\n",
    "create virtual table temp.t1 using spatialite(filename='data.csv');\n",
    "```\n",
    "```"
   ]
  },
  {
   "cell_type": "markdown",
   "metadata": {},
   "source": [
    "```sql\n",
    "select * from generate_series(1, 100);\n",
    "select * from generate_series(1, 100, 5);\n",
    "```\n"
   ]
  },
  {
   "cell_type": "markdown",
   "metadata": {},
   "source": [
    "# Data types"
   ]
  },
  {
   "cell_type": "markdown",
   "metadata": {},
   "source": [
    "## Flexible Typing\n",
    "\n",
    "https://www.sqlite.org/flextypegood.html#:~:text=Without%20flexible%20typing%2C%20such%20a,easier%20to%20access%20and%20update."
   ]
  },
  {
   "cell_type": "markdown",
   "metadata": {},
   "source": [
    "```sql\n",
    "create table ex(a,b,c);\n",
    "```"
   ]
  },
  {
   "cell_type": "markdown",
   "metadata": {},
   "source": [
    "```sql\n",
    "insert into ex values(1,'asdf', 3);\n",
    "insert into ex values(1,'asdf', 'asdf');\n",
    "insert into ex values('asdf',2, 'asdf');\n",
    "select * from ex;\n",
    "```"
   ]
  },
  {
   "cell_type": "markdown",
   "metadata": {},
   "source": [
    "```sql\n",
    "create table ex4 (a integer, b text);\n",
    "insert into ex4 values(1, 'hello');\n",
    "insert into ex4 values('hello', 2);\n",
    "select typeof(a)  from ex4;\n",
    "insert into ex4 values('3', '3');\n",
    "select typeof(a), typeof(b)  from ex4;\n",
    "\n",
    "```"
   ]
  },
  {
   "cell_type": "markdown",
   "metadata": {},
   "source": [
    "## data types\n",
    "\n",
    "+ null\n",
    "+ integer\n",
    "+ real\n",
    "+ text\n",
    "+ blob"
   ]
  },
  {
   "cell_type": "markdown",
   "metadata": {},
   "source": [
    "### Type affinity(\"亲和性\"或\"关联性\")\n",
    "+ numeric affinity\n",
    "+ integer affinity\n",
    "+ real affinity\n",
    "+ text affinity\n",
    "+ none affinity"
   ]
  },
  {
   "cell_type": "markdown",
   "metadata": {},
   "source": [
    "```sql\n",
    "create table types(int integer, text text);\n",
    "insert into types values(1.0, 1.0);\n",
    "insert into types values(1.1, 1.0);\n",
    "select int, typeof(int), text, typeof(text)  from types;\n",
    "\n",
    "```"
   ]
  },
  {
   "cell_type": "markdown",
   "metadata": {},
   "source": [
    "affinity is determined by the first character of the declared type\n",
    "\n",
    "+ \"INT\" => INTEGER\n",
    "+ \"CHAR\" => TEXT\n",
    "+ \"CLOB\" => TEXT\n",
    "+ \"BLOB\" => BLOB\n",
    "+ \"REAL\" => REAL\n",
    "+ \"NUMERIC\" => NUMERIC\n",
    "+ \"INTEGER\" => INTEGER\n",
    "+ \"TEXT\" => TEXT\n",
    "+ \"BINARY\" => BLOB\n",
    "+ [Not specified] => BLOB\n",
    "+ \"NONE\" => NONE\n",
    "+ \"VARCHAR\" => TEXT\n",
    "+ \"VARYING CHARACTER\" => TEXT\n",
    "+ \"NCHAR\" => TEXT\n",
    "+ \"NVARCHAR\" => TEXT\n",
    "+ \"NATIVE CHARACTER\" => TEXT\n",
    "+ \"CLOB\" => TEXT\n",
    "+ \"REAL\" => REAL\n",
    "+ \"FLOA\" => REAL\n",
    "+ \"DOUB\" => REAL"
   ]
  },
  {
   "cell_type": "markdown",
   "metadata": {},
   "source": [
    "## Strict Tables\n",
    "\n",
    "```sql\n",
    "create table strict_types(int integer, text text) strict;\n",
    "insert into strict_types  values('hello', 1); # error\n",
    "\n",
    "create table strict_types (int int, foo foo);\n",
    "\n",
    "create table strict_types(int int, foo foo) strict; # error\n",
    "\n",
    "create table strict_types(int int, foo varchar) strict; # error\n",
    "\n",
    "\n",
    "```"
   ]
  },
  {
   "cell_type": "markdown",
   "metadata": {},
   "source": [
    "### Mix-type tables\n",
    "\n",
    "```sql\n",
    "create table kv (key text, value any) strict;\n",
    "insert into kv values(1, 1);\n",
    "\n",
    "insert into kv values('a', 'hello');\n",
    "\n",
    "select key, typeof(key), value, typeof(value) from kv;\n",
    "\n",
    "\n",
    "```"
   ]
  },
  {
   "cell_type": "markdown",
   "metadata": {},
   "source": [
    "# date functions"
   ]
  },
  {
   "cell_type": "markdown",
   "metadata": {},
   "source": [
    "+ TEXT (ISO 8601)\n",
    "+ REAL (JDN) # julian Day\n",
    "+ INTEGER (UNIX TIMESTAMP)\n",
    "\n",
    "\n",
    "```sql\n",
    "select date();\n",
    "select time();\n",
    "select datetime();\n",
    "select julianday();\n",
    "select unixepoch();\n",
    "select unixepoch('subsec');\n",
    "select strftime('%d', 'now');\n",
    "select timediff(date(), date());\n",
    "\n",
    "select datetime('now', 'start of month');\n",
    "\n",
    "select datetime('now', 'start of month', '+1 month');\n",
    "select datetime('now', 'start of month', '+1 month', '-1 day');\n",
    "\n",
    "select datetime(1722782387, 'unixepoch');\n",
    "\n",
    "-- find thanksgiving day of the current year\n",
    "select date('now', 'start of year', '+10 months', 'weekday 4', '+21 days');\n",
    "\n",
    "select timediff('now', '1989-02-14');\n",
    "\n",
    "select julianday() - julianday('1989-02-14');\n",
    "\n",
    "select (julianday() - julianday('1989-02-14')) / 365;\n",
    "\n",
    "\n",
    "```"
   ]
  },
  {
   "cell_type": "markdown",
   "metadata": {},
   "source": [
    "# Booleans"
   ]
  },
  {
   "cell_type": "markdown",
   "metadata": {},
   "source": [
    "```sql\n",
    "create table booleans(bool int);\n",
    "insert into booleans values(0), (true),(1), (false);\n",
    "\n",
    "select bool, type(bool) from booleans;\n",
    "\n",
    "````\n",
    "\n",
    "| bool | typeof(bool) |\n",
    "|------|--------------|\n",
    "| 0    | integer      |\n",
    "| 1    | integer      |\n",
    "| 1    | integer      |\n",
    "| 0    | integer      |"
   ]
  },
  {
   "cell_type": "markdown",
   "metadata": {},
   "source": [
    "# Floating point\n",
    "\n",
    "```sql\n",
    "create table floats(val float);\n",
    "\n",
    "insert into floats values(26.3), (-10.52), (-15.78);\n",
    "\n",
    "\n",
    "-- this won't work,\n",
    "select sum(val) from floats;\n",
    "\n",
    "\n",
    "-- this will work\n",
    "\n",
    "select decimal_sum(val) from floats;\n",
    "\n",
    "select decimal_add(.1, .2);\n",
    "\n",
    "select decimal_add('.1', '.2');\n",
    "\n",
    "-- real data types have 15 digits of precision\n",
    "\n",
    "select decimal_add('1.000000000000001', '1.000000000000001');\n",
    "\n",
    "select decimal_add('1.000000000000001', '1.000000000000002');\n",
    "\n",
    "select decimal_add('1.000000000000001', '1.000000000000003');\n",
    "\n",
    "select decimal_add('1.000000000000001', '1.000000000000004');\n",
    "\n",
    "select decimal_add('1.000000000000001', '1.000000000000005');\n",
    "```"
   ]
  },
  {
   "cell_type": "markdown",
   "metadata": {},
   "source": [
    "# row id\n",
    "```sql\n",
    "create table example (a int)\n",
    "\n",
    "insert into example values(1), (2), (3);\n",
    "\n",
    "\n",
    "select rowid, * from example;\n",
    "\n",
    "\n",
    "```\n",
    "\n",
    "| rowid | a |\n",
    "|-------|---|\n",
    "| 1     | 1 |\n",
    "| 2     | 2 |\n",
    "| 3     | 3 |\n",
    "\n",
    "\n",
    "```sql\n",
    "select rowid, _rowid_, oid, * from example;\n",
    "\n",
    "```\n",
    "\n",
    "| rowid | rowid | rowid | a |\n",
    "|-------|-------|-------|---|\n",
    "| 1     | 1     | 1     | 1 |\n",
    "| 2     | 2     | 2     | 2 |\n",
    "| 3     | 3     | 3     | 3 |\n",
    "\n",
    "```sql\n",
    "create table example_uuid(uuid text primary key);\n",
    "\n",
    "insert into example_uuid  values('1234-1234');\n",
    "\n",
    "insert into example_uuid  values(null);\n",
    "\n",
    "\n",
    "create table example_id(id  integer  primary key);\n",
    "\n",
    "\n",
    "select rowid,_rowid_, oid,  * from example_id;\n",
    "\n",
    "```\n",
    "\n",
    "| id | id | id | id |\n",
    "|----|----|----|----|\n",
    "| 1  | 1  | 1  | 1  |\n",
    "| 2  | 2  | 2  | 2  |\n",
    "\n",
    "all columns are called id\n",
    "\n",
    "```sql\n",
    "insert into example_uuid (rowid, uuid) values(9223372036854775807, '3456-3456');\n",
    "select rowid, * from example_Uuid;\n",
    "\n",
    "```\n",
    "\n",
    "\n",
    "|        rowid        |   uuid    |\n",
    "|---------------------|-----------|\n",
    "| 1                   | 1234-1234 |\n",
    "| 2                   |           |\n",
    "| 9223372036854775807 | 3456-3456 |\n",
    "\n",
    "\n",
    "```sql\n",
    "insert into example_uuid values('4567-4567');\n",
    "select rowid, * from example_Uuid;\n",
    "```\n",
    "\n",
    "|        rowid        |   uuid    |\n",
    "|---------------------|-----------|\n",
    "| 1                   | 1234-1234 |\n",
    "| 2                   |           |\n",
    "| 3169222898095022640 | 4567-4567 |\n",
    "| 9223372036854775807 | 3456-3456 |\n",
    "\n",
    "\n",
    "\n",
    "\n"
   ]
  },
  {
   "cell_type": "markdown",
   "metadata": {},
   "source": [
    "```sql\n",
    "create table auto (id integer primary key autoincrement, text text);\n",
    "insert into auto (text) values ('hello');\n",
    "insert into auto (text) values ('goodbye');\n",
    "insert into auto (id, text) values (9223372036854775807, 'last');\n",
    "\n",
    "-- error: database or disk is full (13)\n",
    "insert into auto (text) values ('hopefully this works.');\n",
    "\n",
    "select * from sqlite_sequence;\n",
    "\n",
    "update sqlite_sequence set seq=2 where name='auto';\n",
    "\n",
    "insert into auto (text) values ('delete from sqlite_sequence');\n",
    "```\n",
    "\n",
    "| id |            text             |\n",
    "|----|-----------------------------|\n",
    "| 1  | hello                       |\n",
    "| 2  | goodbye                     |\n",
    "| 3  | delete from sqlite_sequence |\n",
    "\n"
   ]
  },
  {
   "cell_type": "markdown",
   "metadata": {},
   "source": [
    "```sql\n",
    "create table kv (key text primary key, value any ) strict , without rowid;\n",
    "insert into kv values('key', 1);\n",
    "\n",
    "\n",
    "-- error\n",
    "select rowid, * from kv;\n",
    "\n",
    "```"
   ]
  },
  {
   "cell_type": "markdown",
   "metadata": {},
   "source": [
    "### Generated columns\n",
    "\n",
    "```sql\n",
    "\n",
    "create table gen (\n",
    "    id integer primary key,\n",
    "    first_name text,\n",
    "    last_name text,\n",
    "    full_name text generated always as (first_name || ' ' || last_name)\n",
    ") strict;\n",
    "\n",
    "insert into gen (first_name, last_name) values ('jack', 'yao');\n",
    "select * from gen;\n",
    "\n",
    "\n",
    "\n",
    "```\n",
    "\n",
    "\n",
    "| id | first_name | last_name | full_name |\n",
    "|----|------------|-----------|-----------|\n",
    "| 1  | jack       | yao       | jack yao  |\n"
   ]
  },
  {
   "cell_type": "markdown",
   "metadata": {},
   "source": [
    "Generate column type:\n",
    "\n",
    "+ virtual generate column (calucated at runtime, and is the default options)\n",
    "+ stored generated column (calcated at insert/update time)\n",
    "\n",
    "```sql\n",
    "CREATE TABLE test (\n",
    "    a INTEGER,\n",
    "    b INTEGER,\n",
    "    c INTEGER GENERATED ALWAYS AS (a + b) VIRTUAL,\n",
    "    d INTEGER GENERATED ALWAYS AS (a + b) STORED,\n",
    "    e INTEGER  AS (a - b) VIRTUAL);"
   ]
  },
  {
   "cell_type": "markdown",
   "metadata": {},
   "source": [
    "# Locks\n",
    "\n",
    "lock states \n",
    "\n",
    "+ unlocked\n",
    "+ shared\n",
    "+ reserved\n",
    "+ pending\n",
    "+ exclusive\n",
    "\n",
    "lock type \n",
    "\n",
    "+ shared\n",
    "+ reserved\n",
    "+ pending\n",
    "+ exclusive\n",
    "\n",
    "lock request \n",
    "\n",
    "+ shared\n",
    "+ reserved\n",
    "+ pending\n",
    "+ exclusive\n"
   ]
  },
  {
   "cell_type": "markdown",
   "metadata": {},
   "source": [
    "# journal mode\n",
    "\n",
    "```bash\n",
    "sqlite> pragma journal_mode\n",
    "\n",
    "\n",
    "```\n",
    "\n",
    "\n",
    "- write-ahead logging (WAL)\n",
    "- rollback journal (default)\n",
    "- write journal\n",
    "- truncate journal\n"
   ]
  },
  {
   "cell_type": "markdown",
   "metadata": {},
   "source": [
    "## WAL mode\n",
    "\n",
    "```bash\n",
    "sqlite> pragma journal_mode=wal;\n",
    "```"
   ]
  },
  {
   "cell_type": "markdown",
   "metadata": {},
   "source": [
    "# busy_timeout\n",
    "\n",
    "```bash\n",
    "sqlite> PRAGMA busy_timeout = 5000;\n",
    "sqlite> PRAGMA busy_timeout;\n",
    "```\n",
    "\n",
    "\n",
    "```sql\n",
    "start exclusive transaction;\n",
    "\n",
    "```\n",
    "\n",
    "```sql\n",
    "-- if busy_timeout = 0 then if a exclusive transaction is started, any write operation will error immediately\n",
    "-- if busy_timeout > 0 then if a exclusive transaction is started, any write operation will wait for busy_timeout milliseconds\n",
    "\n",
    "\n",
    "update kv set value = 2 where key = 'key';\n",
    "-- Runtime error: database is locked\n",
    "\n",
    "\n",
    "```\n",
    "\n",
    "```bash\n",
    "\n",
    "# journal_mode\n",
    "\n",
    "```bash\n",
    "sqlite> PRAGMA journal_mode;\n",
    "```\n",
    "\n",
    "# synchronous\n",
    "\n",
    "```bash\n",
    "sqlite> PRAGMA synchronous;\n",
    "```\n",
    "\n",
    "# wal_autocheckpoint\n",
    "\n",
    "```bash\n",
    "sqlite> PRAGMA wal_autocheckpoint;\n",
    "```\n",
    "\n",
    "# wal_checkpoint\n",
    "\n",
    "```bash\n",
    "sqlite> PRAGMA wal_checkpoint;\n",
    "```\n",
    "\n",
    "# wal_checkpoint(RESTART)\n",
    "\n",
    "```bash\n",
    "sqlite> PRAGMA wal_checkpoint(RESTART);\n",
    "```\n",
    "\n",
    "# wal_checkpoint(TRUNCATE)\n",
    "\n",
    "```bash\n",
    "sqlite> PRAGMA wal_checkpoint(TRUNCATE);\n",
    "```\n",
    "\n",
    "\n",
    "\n",
    "```sql\n",
    "begin transaction;\n",
    "\n",
    "rollback;\n",
    "\n",
    "begin exclusive transaction;\n",
    "\n",
    "commit;\n",
    "\n",
    "```"
   ]
  },
  {
   "cell_type": "markdown",
   "metadata": {},
   "source": [
    "# transaction mode\n",
    "\n",
    "+ exclusive mode\n",
    "+ deferred mode\n",
    "+ immediate mode\n",
    "+ autocommit mode\n",
    "\n",
    "```sql\n",
    "-- exclusive mode\n",
    "BEGIN EXCLUSIVE TRANSACTION;\n",
    "\n",
    "-- deferred mode\n",
    "BEGIN DEFERRED TRANSACTION;\n",
    "\n",
    "-- immediate mode\n",
    "BEGIN IMMEDIATE TRANSACTION;\n",
    "\n"
   ]
  },
  {
   "cell_type": "markdown",
   "metadata": {},
   "source": [
    "https://www.sqlite.org/lang_transaction.html"
   ]
  },
  {
   "cell_type": "markdown",
   "metadata": {},
   "source": [
    "# vacuum\n",
    "\n",
    "\n",
    "\n",
    "```bash\n",
    "sqlite> .pragma page_count; \n",
    "sqlite> .pragma page_size; \n",
    "sqlite> .pragma freelist_count; \n",
    "\n",
    "# delte  free pages\n",
    "\n",
    "sqlite> vacuum;\n",
    "\n",
    "```"
   ]
  },
  {
   "cell_type": "markdown",
   "metadata": {},
   "source": [
    "## Reason to vacuum:\n",
    "\n",
    "+ Disk Space\n",
    "+ Reduce Fragmentation"
   ]
  },
  {
   "cell_type": "markdown",
   "metadata": {},
   "source": [
    "## Downsides to vacumming:\n",
    "\n",
    "+ Can be Slow\n",
    "+ Need a exclusive lock\n",
    "+ More space"
   ]
  },
  {
   "cell_type": "markdown",
   "metadata": {},
   "source": [
    "# Optmizing and Analyzing\n",
    "\n",
    "\n",
    "```bash\n",
    "sqlite> pragma optmize\n",
    "sqlite> pragma optmize(0x03);\n",
    "sqlite> pragma analysis_limit;\n",
    "sqlite> pragma analysis_limit=400;\n",
    "\n",
    "\n",
    "```\n",
    "\n",
    "```sql\n",
    "select * from sqlite_stat1;\n",
    "\n",
    "```"
   ]
  },
  {
   "cell_type": "markdown",
   "metadata": {},
   "source": []
  }
 ],
 "metadata": {
  "kernelspec": {
   "display_name": "Python 3",
   "language": "python",
   "name": "python3"
  },
  "language_info": {
   "codemirror_mode": {
    "name": "ipython",
    "version": 3
   },
   "file_extension": ".py",
   "mimetype": "text/x-python",
   "name": "python",
   "nbconvert_exporter": "python",
   "pygments_lexer": "ipython3",
   "version": "3.12.4"
  }
 },
 "nbformat": 4,
 "nbformat_minor": 2
}
